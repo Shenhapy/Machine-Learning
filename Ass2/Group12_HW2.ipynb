{
  "nbformat": 4,
  "nbformat_minor": 0,
  "metadata": {
    "colab": {
      "provenance": [],
      "collapsed_sections": [
        "2GShIMd-6wQB",
        "4HKa3TD79Ey_",
        "Ornhqh1q7KFv",
        "CyOxXTtasoRP"
      ]
    },
    "kernelspec": {
      "name": "python3",
      "display_name": "Python 3"
    },
    "language_info": {
      "name": "python"
    }
  },
  "cells": [
    {
      "cell_type": "markdown",
      "source": [
        "## Import Libraries"
      ],
      "metadata": {
        "id": "DY_nfjeF1qgt"
      }
    },
    {
      "cell_type": "code",
      "source": [
        "import pandas as pd\n",
        "import numpy as np\n",
        "import matplotlib.pyplot as plt\n",
        "from sklearn.preprocessing import OneHotEncoder\n",
        "from sklearn.naive_bayes import CategoricalNB\n",
        "from sklearn.model_selection import train_test_split\n",
        "from sklearn.naive_bayes import GaussianNB, MultinomialNB\n",
        "from sklearn.metrics import accuracy_score, confusion_matrix, ConfusionMatrixDisplay"
      ],
      "metadata": {
        "id": "G8wR_hj0eh_s"
      },
      "execution_count": null,
      "outputs": []
    },
    {
      "cell_type": "markdown",
      "source": [
        "#Part 1 as model to check manula calculations!"
      ],
      "metadata": {
        "id": "2GShIMd-6wQB"
      }
    },
    {
      "cell_type": "markdown",
      "source": [
        "## a) Naive Bayes Classifier"
      ],
      "metadata": {
        "id": "WUo6kiGu646I"
      }
    },
    {
      "cell_type": "markdown",
      "source": [
        "We have Car data provided in this link (https://docs.google.com/spreadsheets/d/11v5X6ZQw7YVL0EOpsdt4BWR3uwEz4YB5/edit?usp=drive_link) collected and the dataset contains three features."
      ],
      "metadata": {
        "id": "DuhjWcSbvr_V"
      }
    },
    {
      "cell_type": "markdown",
      "source": [
        "Load Data, Drop extra column.\n",
        "The target attribute is marked Stolen, which indicates whether a specific car is stolen or not.Assign the traget Y"
      ],
      "metadata": {
        "id": "uTma8DSPwIDd"
      }
    },
    {
      "cell_type": "code",
      "source": [
        "# Load the table\n",
        "data = pd.read_excel('/content/Car Data.xlsx')\n",
        "\n",
        "# Drop the \"Example No.\" column\n",
        "data = data.drop('Example No.', axis=1)\n",
        "\n",
        "# Separate features (X) and target variable (y)\n",
        "X = data.drop('Stolen', axis=1)\n",
        "Y = data['Stolen']"
      ],
      "metadata": {
        "id": "B7wiGbA6eiC0"
      },
      "execution_count": null,
      "outputs": []
    },
    {
      "cell_type": "code",
      "source": [
        "data.head(10)"
      ],
      "metadata": {
        "id": "1s_D80cS2zj5"
      },
      "execution_count": null,
      "outputs": []
    },
    {
      "cell_type": "markdown",
      "source": [
        "Encode the data. Apply one-hot encoding to the features (X)"
      ],
      "metadata": {
        "id": "4719JEMlwRPE"
      }
    },
    {
      "cell_type": "code",
      "source": [
        "# Apply one-hot encoding to the features (X)\n",
        "encoder = OneHotEncoder(sparse=False)\n",
        "X_encoded = encoder.fit_transform(X)"
      ],
      "metadata": {
        "colab": {
          "base_uri": "https://localhost:8080/"
        },
        "id": "t3JbpwH9eiF9",
        "outputId": "5fea664e-d2ee-47c4-b2cc-97a5c5805463"
      },
      "execution_count": null,
      "outputs": [
        {
          "output_type": "stream",
          "name": "stderr",
          "text": [
            "/usr/local/lib/python3.10/dist-packages/sklearn/preprocessing/_encoders.py:868: FutureWarning: `sparse` was renamed to `sparse_output` in version 1.2 and will be removed in 1.4. `sparse_output` is ignored unless you leave `sparse` to its default value.\n",
            "  warnings.warn(\n"
          ]
        }
      ]
    },
    {
      "cell_type": "markdown",
      "source": [
        "Train the Naive Bayes classifier\n",
        "Using Naive Bayes Classifier to classify a new instance"
      ],
      "metadata": {
        "id": "DaS_bTg-waUs"
      }
    },
    {
      "cell_type": "code",
      "source": [
        "# Train the Naive Bayes classifier\n",
        "naive_bayes = CategoricalNB()\n",
        "naive_bayes.fit(X_encoded, Y)"
      ],
      "metadata": {
        "colab": {
          "base_uri": "https://localhost:8080/",
          "height": 74
        },
        "id": "EsYEyV3swYcX",
        "outputId": "38f47e9d-78e1-4e7e-8b68-fa3c8297c147"
      },
      "execution_count": null,
      "outputs": [
        {
          "output_type": "execute_result",
          "data": {
            "text/plain": [
              "CategoricalNB()"
            ],
            "text/html": [
              "<style>#sk-container-id-1 {color: black;background-color: white;}#sk-container-id-1 pre{padding: 0;}#sk-container-id-1 div.sk-toggleable {background-color: white;}#sk-container-id-1 label.sk-toggleable__label {cursor: pointer;display: block;width: 100%;margin-bottom: 0;padding: 0.3em;box-sizing: border-box;text-align: center;}#sk-container-id-1 label.sk-toggleable__label-arrow:before {content: \"▸\";float: left;margin-right: 0.25em;color: #696969;}#sk-container-id-1 label.sk-toggleable__label-arrow:hover:before {color: black;}#sk-container-id-1 div.sk-estimator:hover label.sk-toggleable__label-arrow:before {color: black;}#sk-container-id-1 div.sk-toggleable__content {max-height: 0;max-width: 0;overflow: hidden;text-align: left;background-color: #f0f8ff;}#sk-container-id-1 div.sk-toggleable__content pre {margin: 0.2em;color: black;border-radius: 0.25em;background-color: #f0f8ff;}#sk-container-id-1 input.sk-toggleable__control:checked~div.sk-toggleable__content {max-height: 200px;max-width: 100%;overflow: auto;}#sk-container-id-1 input.sk-toggleable__control:checked~label.sk-toggleable__label-arrow:before {content: \"▾\";}#sk-container-id-1 div.sk-estimator input.sk-toggleable__control:checked~label.sk-toggleable__label {background-color: #d4ebff;}#sk-container-id-1 div.sk-label input.sk-toggleable__control:checked~label.sk-toggleable__label {background-color: #d4ebff;}#sk-container-id-1 input.sk-hidden--visually {border: 0;clip: rect(1px 1px 1px 1px);clip: rect(1px, 1px, 1px, 1px);height: 1px;margin: -1px;overflow: hidden;padding: 0;position: absolute;width: 1px;}#sk-container-id-1 div.sk-estimator {font-family: monospace;background-color: #f0f8ff;border: 1px dotted black;border-radius: 0.25em;box-sizing: border-box;margin-bottom: 0.5em;}#sk-container-id-1 div.sk-estimator:hover {background-color: #d4ebff;}#sk-container-id-1 div.sk-parallel-item::after {content: \"\";width: 100%;border-bottom: 1px solid gray;flex-grow: 1;}#sk-container-id-1 div.sk-label:hover label.sk-toggleable__label {background-color: #d4ebff;}#sk-container-id-1 div.sk-serial::before {content: \"\";position: absolute;border-left: 1px solid gray;box-sizing: border-box;top: 0;bottom: 0;left: 50%;z-index: 0;}#sk-container-id-1 div.sk-serial {display: flex;flex-direction: column;align-items: center;background-color: white;padding-right: 0.2em;padding-left: 0.2em;position: relative;}#sk-container-id-1 div.sk-item {position: relative;z-index: 1;}#sk-container-id-1 div.sk-parallel {display: flex;align-items: stretch;justify-content: center;background-color: white;position: relative;}#sk-container-id-1 div.sk-item::before, #sk-container-id-1 div.sk-parallel-item::before {content: \"\";position: absolute;border-left: 1px solid gray;box-sizing: border-box;top: 0;bottom: 0;left: 50%;z-index: -1;}#sk-container-id-1 div.sk-parallel-item {display: flex;flex-direction: column;z-index: 1;position: relative;background-color: white;}#sk-container-id-1 div.sk-parallel-item:first-child::after {align-self: flex-end;width: 50%;}#sk-container-id-1 div.sk-parallel-item:last-child::after {align-self: flex-start;width: 50%;}#sk-container-id-1 div.sk-parallel-item:only-child::after {width: 0;}#sk-container-id-1 div.sk-dashed-wrapped {border: 1px dashed gray;margin: 0 0.4em 0.5em 0.4em;box-sizing: border-box;padding-bottom: 0.4em;background-color: white;}#sk-container-id-1 div.sk-label label {font-family: monospace;font-weight: bold;display: inline-block;line-height: 1.2em;}#sk-container-id-1 div.sk-label-container {text-align: center;}#sk-container-id-1 div.sk-container {/* jupyter's `normalize.less` sets `[hidden] { display: none; }` but bootstrap.min.css set `[hidden] { display: none !important; }` so we also need the `!important` here to be able to override the default hidden behavior on the sphinx rendered scikit-learn.org. See: https://github.com/scikit-learn/scikit-learn/issues/21755 */display: inline-block !important;position: relative;}#sk-container-id-1 div.sk-text-repr-fallback {display: none;}</style><div id=\"sk-container-id-1\" class=\"sk-top-container\"><div class=\"sk-text-repr-fallback\"><pre>CategoricalNB()</pre><b>In a Jupyter environment, please rerun this cell to show the HTML representation or trust the notebook. <br />On GitHub, the HTML representation is unable to render, please try loading this page with nbviewer.org.</b></div><div class=\"sk-container\" hidden><div class=\"sk-item\"><div class=\"sk-estimator sk-toggleable\"><input class=\"sk-toggleable__control sk-hidden--visually\" id=\"sk-estimator-id-1\" type=\"checkbox\" checked><label for=\"sk-estimator-id-1\" class=\"sk-toggleable__label sk-toggleable__label-arrow\">CategoricalNB</label><div class=\"sk-toggleable__content\"><pre>CategoricalNB()</pre></div></div></div></div></div>"
            ]
          },
          "metadata": {},
          "execution_count": 5
        }
      ]
    },
    {
      "cell_type": "markdown",
      "source": [
        "New Instance = (Blue, SUV, Domestic).\n",
        "Encode the instance\n",
        "Predict into (Yes or No)."
      ],
      "metadata": {
        "id": "MiaiFWH5wy1c"
      }
    },
    {
      "cell_type": "code",
      "source": [
        "# Define the new instance for classification\n",
        "new_instance = pd.DataFrame({'Color': ['Blue'], 'Type': ['SUV'], 'Origin': ['Domestic']})\n",
        "\n",
        "# Apply one-hot encoding to the new instance\n",
        "new_instance_encoded = encoder.transform(new_instance)\n",
        "\n",
        "# Make predictions for the new instance\n",
        "predictions = naive_bayes.predict(new_instance_encoded)\n",
        "\n",
        "# Display the predicted class\n",
        "print(\"Predicted Class: \", predictions[0])"
      ],
      "metadata": {
        "colab": {
          "base_uri": "https://localhost:8080/"
        },
        "id": "UT0fnglEeiIr",
        "outputId": "eb7dfb50-d3c2-47ae-9860-f4199b0de40f"
      },
      "execution_count": null,
      "outputs": [
        {
          "output_type": "stream",
          "name": "stdout",
          "text": [
            "Predicted Class:  No\n"
          ]
        }
      ]
    },
    {
      "cell_type": "markdown",
      "source": [
        "Please include the detailed calculation process."
      ],
      "metadata": {
        "id": "ZrZRZXRFvlBl"
      }
    },
    {
      "cell_type": "markdown",
      "source": [
        "**Calculations!!!!**"
      ],
      "metadata": {
        "id": "HLdZXk1nw-Z1"
      }
    },
    {
      "cell_type": "markdown",
      "source": [
        "All Calculations are in the report"
      ],
      "metadata": {
        "id": "g3iuViAowBKc"
      }
    },
    {
      "cell_type": "markdown",
      "source": [
        "## b) The rejection area"
      ],
      "metadata": {
        "id": "1HaAmkyv7A5-"
      }
    },
    {
      "cell_type": "markdown",
      "source": [
        "Consider the loss table, which contains three actions and two classes. Calculate the expected risk of three actions, and determine the rejection area of P(Class1| x)."
      ],
      "metadata": {
        "id": "uyl3PV8tvmFU"
      }
    },
    {
      "cell_type": "code",
      "source": [
        "# Convert the loss table to a NumPy array\n",
        "loss_table = np.array([[0, 6], [3, 0], [2, 2]])\n",
        "\n",
        "# Calculate the expected risk of each action\n",
        "expected_risk = np.sum(loss_table, axis=1) / np.sum(loss_table)\n",
        "\n",
        "# Determine the rejection area of P(Class1| x)\n",
        "rejection_area = expected_risk[2]\n",
        "\n",
        "# Display the expected risk and rejection area\n",
        "print(\"Expected Risk:\")\n",
        "print(\"Action a1:\", expected_risk[0])\n",
        "print(\"Action a2:\", expected_risk[1])\n",
        "\n",
        "print(\"\\n Rejection Area of P(Class1| x):\", rejection_area)"
      ],
      "metadata": {
        "colab": {
          "base_uri": "https://localhost:8080/"
        },
        "id": "NIc2GPVvyVay",
        "outputId": "38ac3716-cf8a-4e12-e851-924a540827d6"
      },
      "execution_count": null,
      "outputs": [
        {
          "output_type": "stream",
          "name": "stdout",
          "text": [
            "Expected Risk:\n",
            "Action a1: 0.46153846153846156\n",
            "Action a2: 0.23076923076923078\n",
            "\n",
            " Rejection Area of P(Class1| x): 0.3076923076923077\n"
          ]
        }
      ]
    },
    {
      "cell_type": "markdown",
      "source": [
        "#Part 2"
      ],
      "metadata": {
        "id": "sdZQJyjQ7Gs3"
      }
    },
    {
      "cell_type": "markdown",
      "source": [
        "## Load the data"
      ],
      "metadata": {
        "id": "4HKa3TD79Ey_"
      }
    },
    {
      "cell_type": "code",
      "source": [
        "#loading the data\n",
        "data = pd.read_csv('/content/spambase.data', header=None)\n",
        "data.head()"
      ],
      "metadata": {
        "colab": {
          "base_uri": "https://localhost:8080/"
        },
        "id": "yXWryC0X9GXX",
        "outputId": "8e790757-79c4-4247-97fa-13f30387c890"
      },
      "execution_count": null,
      "outputs": [
        {
          "output_type": "execute_result",
          "data": {
            "text/plain": [
              "     0     1     2    3     4     5     6     7     8     9   ...    48  \\\n",
              "0  0.00  0.64  0.64  0.0  0.32  0.00  0.00  0.00  0.00  0.00  ...  0.00   \n",
              "1  0.21  0.28  0.50  0.0  0.14  0.28  0.21  0.07  0.00  0.94  ...  0.00   \n",
              "2  0.06  0.00  0.71  0.0  1.23  0.19  0.19  0.12  0.64  0.25  ...  0.01   \n",
              "3  0.00  0.00  0.00  0.0  0.63  0.00  0.31  0.63  0.31  0.63  ...  0.00   \n",
              "4  0.00  0.00  0.00  0.0  0.63  0.00  0.31  0.63  0.31  0.63  ...  0.00   \n",
              "\n",
              "      49   50     51     52     53     54   55    56  57  \n",
              "0  0.000  0.0  0.778  0.000  0.000  3.756   61   278   1  \n",
              "1  0.132  0.0  0.372  0.180  0.048  5.114  101  1028   1  \n",
              "2  0.143  0.0  0.276  0.184  0.010  9.821  485  2259   1  \n",
              "3  0.137  0.0  0.137  0.000  0.000  3.537   40   191   1  \n",
              "4  0.135  0.0  0.135  0.000  0.000  3.537   40   191   1  \n",
              "\n",
              "[5 rows x 58 columns]"
            ],
            "text/html": [
              "\n",
              "  <div id=\"df-15ce6c1d-77c6-444b-8ad3-e6ee9b0b1734\">\n",
              "    <div class=\"colab-df-container\">\n",
              "      <div>\n",
              "<style scoped>\n",
              "    .dataframe tbody tr th:only-of-type {\n",
              "        vertical-align: middle;\n",
              "    }\n",
              "\n",
              "    .dataframe tbody tr th {\n",
              "        vertical-align: top;\n",
              "    }\n",
              "\n",
              "    .dataframe thead th {\n",
              "        text-align: right;\n",
              "    }\n",
              "</style>\n",
              "<table border=\"1\" class=\"dataframe\">\n",
              "  <thead>\n",
              "    <tr style=\"text-align: right;\">\n",
              "      <th></th>\n",
              "      <th>0</th>\n",
              "      <th>1</th>\n",
              "      <th>2</th>\n",
              "      <th>3</th>\n",
              "      <th>4</th>\n",
              "      <th>5</th>\n",
              "      <th>6</th>\n",
              "      <th>7</th>\n",
              "      <th>8</th>\n",
              "      <th>9</th>\n",
              "      <th>...</th>\n",
              "      <th>48</th>\n",
              "      <th>49</th>\n",
              "      <th>50</th>\n",
              "      <th>51</th>\n",
              "      <th>52</th>\n",
              "      <th>53</th>\n",
              "      <th>54</th>\n",
              "      <th>55</th>\n",
              "      <th>56</th>\n",
              "      <th>57</th>\n",
              "    </tr>\n",
              "  </thead>\n",
              "  <tbody>\n",
              "    <tr>\n",
              "      <th>0</th>\n",
              "      <td>0.00</td>\n",
              "      <td>0.64</td>\n",
              "      <td>0.64</td>\n",
              "      <td>0.0</td>\n",
              "      <td>0.32</td>\n",
              "      <td>0.00</td>\n",
              "      <td>0.00</td>\n",
              "      <td>0.00</td>\n",
              "      <td>0.00</td>\n",
              "      <td>0.00</td>\n",
              "      <td>...</td>\n",
              "      <td>0.00</td>\n",
              "      <td>0.000</td>\n",
              "      <td>0.0</td>\n",
              "      <td>0.778</td>\n",
              "      <td>0.000</td>\n",
              "      <td>0.000</td>\n",
              "      <td>3.756</td>\n",
              "      <td>61</td>\n",
              "      <td>278</td>\n",
              "      <td>1</td>\n",
              "    </tr>\n",
              "    <tr>\n",
              "      <th>1</th>\n",
              "      <td>0.21</td>\n",
              "      <td>0.28</td>\n",
              "      <td>0.50</td>\n",
              "      <td>0.0</td>\n",
              "      <td>0.14</td>\n",
              "      <td>0.28</td>\n",
              "      <td>0.21</td>\n",
              "      <td>0.07</td>\n",
              "      <td>0.00</td>\n",
              "      <td>0.94</td>\n",
              "      <td>...</td>\n",
              "      <td>0.00</td>\n",
              "      <td>0.132</td>\n",
              "      <td>0.0</td>\n",
              "      <td>0.372</td>\n",
              "      <td>0.180</td>\n",
              "      <td>0.048</td>\n",
              "      <td>5.114</td>\n",
              "      <td>101</td>\n",
              "      <td>1028</td>\n",
              "      <td>1</td>\n",
              "    </tr>\n",
              "    <tr>\n",
              "      <th>2</th>\n",
              "      <td>0.06</td>\n",
              "      <td>0.00</td>\n",
              "      <td>0.71</td>\n",
              "      <td>0.0</td>\n",
              "      <td>1.23</td>\n",
              "      <td>0.19</td>\n",
              "      <td>0.19</td>\n",
              "      <td>0.12</td>\n",
              "      <td>0.64</td>\n",
              "      <td>0.25</td>\n",
              "      <td>...</td>\n",
              "      <td>0.01</td>\n",
              "      <td>0.143</td>\n",
              "      <td>0.0</td>\n",
              "      <td>0.276</td>\n",
              "      <td>0.184</td>\n",
              "      <td>0.010</td>\n",
              "      <td>9.821</td>\n",
              "      <td>485</td>\n",
              "      <td>2259</td>\n",
              "      <td>1</td>\n",
              "    </tr>\n",
              "    <tr>\n",
              "      <th>3</th>\n",
              "      <td>0.00</td>\n",
              "      <td>0.00</td>\n",
              "      <td>0.00</td>\n",
              "      <td>0.0</td>\n",
              "      <td>0.63</td>\n",
              "      <td>0.00</td>\n",
              "      <td>0.31</td>\n",
              "      <td>0.63</td>\n",
              "      <td>0.31</td>\n",
              "      <td>0.63</td>\n",
              "      <td>...</td>\n",
              "      <td>0.00</td>\n",
              "      <td>0.137</td>\n",
              "      <td>0.0</td>\n",
              "      <td>0.137</td>\n",
              "      <td>0.000</td>\n",
              "      <td>0.000</td>\n",
              "      <td>3.537</td>\n",
              "      <td>40</td>\n",
              "      <td>191</td>\n",
              "      <td>1</td>\n",
              "    </tr>\n",
              "    <tr>\n",
              "      <th>4</th>\n",
              "      <td>0.00</td>\n",
              "      <td>0.00</td>\n",
              "      <td>0.00</td>\n",
              "      <td>0.0</td>\n",
              "      <td>0.63</td>\n",
              "      <td>0.00</td>\n",
              "      <td>0.31</td>\n",
              "      <td>0.63</td>\n",
              "      <td>0.31</td>\n",
              "      <td>0.63</td>\n",
              "      <td>...</td>\n",
              "      <td>0.00</td>\n",
              "      <td>0.135</td>\n",
              "      <td>0.0</td>\n",
              "      <td>0.135</td>\n",
              "      <td>0.000</td>\n",
              "      <td>0.000</td>\n",
              "      <td>3.537</td>\n",
              "      <td>40</td>\n",
              "      <td>191</td>\n",
              "      <td>1</td>\n",
              "    </tr>\n",
              "  </tbody>\n",
              "</table>\n",
              "<p>5 rows × 58 columns</p>\n",
              "</div>\n",
              "      <button class=\"colab-df-convert\" onclick=\"convertToInteractive('df-15ce6c1d-77c6-444b-8ad3-e6ee9b0b1734')\"\n",
              "              title=\"Convert this dataframe to an interactive table.\"\n",
              "              style=\"display:none;\">\n",
              "        \n",
              "  <svg xmlns=\"http://www.w3.org/2000/svg\" height=\"24px\"viewBox=\"0 0 24 24\"\n",
              "       width=\"24px\">\n",
              "    <path d=\"M0 0h24v24H0V0z\" fill=\"none\"/>\n",
              "    <path d=\"M18.56 5.44l.94 2.06.94-2.06 2.06-.94-2.06-.94-.94-2.06-.94 2.06-2.06.94zm-11 1L8.5 8.5l.94-2.06 2.06-.94-2.06-.94L8.5 2.5l-.94 2.06-2.06.94zm10 10l.94 2.06.94-2.06 2.06-.94-2.06-.94-.94-2.06-.94 2.06-2.06.94z\"/><path d=\"M17.41 7.96l-1.37-1.37c-.4-.4-.92-.59-1.43-.59-.52 0-1.04.2-1.43.59L10.3 9.45l-7.72 7.72c-.78.78-.78 2.05 0 2.83L4 21.41c.39.39.9.59 1.41.59.51 0 1.02-.2 1.41-.59l7.78-7.78 2.81-2.81c.8-.78.8-2.07 0-2.86zM5.41 20L4 18.59l7.72-7.72 1.47 1.35L5.41 20z\"/>\n",
              "  </svg>\n",
              "      </button>\n",
              "      \n",
              "  <style>\n",
              "    .colab-df-container {\n",
              "      display:flex;\n",
              "      flex-wrap:wrap;\n",
              "      gap: 12px;\n",
              "    }\n",
              "\n",
              "    .colab-df-convert {\n",
              "      background-color: #E8F0FE;\n",
              "      border: none;\n",
              "      border-radius: 50%;\n",
              "      cursor: pointer;\n",
              "      display: none;\n",
              "      fill: #1967D2;\n",
              "      height: 32px;\n",
              "      padding: 0 0 0 0;\n",
              "      width: 32px;\n",
              "    }\n",
              "\n",
              "    .colab-df-convert:hover {\n",
              "      background-color: #E2EBFA;\n",
              "      box-shadow: 0px 1px 2px rgba(60, 64, 67, 0.3), 0px 1px 3px 1px rgba(60, 64, 67, 0.15);\n",
              "      fill: #174EA6;\n",
              "    }\n",
              "\n",
              "    [theme=dark] .colab-df-convert {\n",
              "      background-color: #3B4455;\n",
              "      fill: #D2E3FC;\n",
              "    }\n",
              "\n",
              "    [theme=dark] .colab-df-convert:hover {\n",
              "      background-color: #434B5C;\n",
              "      box-shadow: 0px 1px 3px 1px rgba(0, 0, 0, 0.15);\n",
              "      filter: drop-shadow(0px 1px 2px rgba(0, 0, 0, 0.3));\n",
              "      fill: #FFFFFF;\n",
              "    }\n",
              "  </style>\n",
              "\n",
              "      <script>\n",
              "        const buttonEl =\n",
              "          document.querySelector('#df-15ce6c1d-77c6-444b-8ad3-e6ee9b0b1734 button.colab-df-convert');\n",
              "        buttonEl.style.display =\n",
              "          google.colab.kernel.accessAllowed ? 'block' : 'none';\n",
              "\n",
              "        async function convertToInteractive(key) {\n",
              "          const element = document.querySelector('#df-15ce6c1d-77c6-444b-8ad3-e6ee9b0b1734');\n",
              "          const dataTable =\n",
              "            await google.colab.kernel.invokeFunction('convertToInteractive',\n",
              "                                                     [key], {});\n",
              "          if (!dataTable) return;\n",
              "\n",
              "          const docLinkHtml = 'Like what you see? Visit the ' +\n",
              "            '<a target=\"_blank\" href=https://colab.research.google.com/notebooks/data_table.ipynb>data table notebook</a>'\n",
              "            + ' to learn more about interactive tables.';\n",
              "          element.innerHTML = '';\n",
              "          dataTable['output_type'] = 'display_data';\n",
              "          await google.colab.output.renderOutput(dataTable, element);\n",
              "          const docLink = document.createElement('div');\n",
              "          docLink.innerHTML = docLinkHtml;\n",
              "          element.appendChild(docLink);\n",
              "        }\n",
              "      </script>\n",
              "    </div>\n",
              "  </div>\n",
              "  "
            ]
          },
          "metadata": {},
          "execution_count": 281
        }
      ]
    },
    {
      "cell_type": "markdown",
      "source": [
        "## a) Split the dataset 1"
      ],
      "metadata": {
        "id": "Ornhqh1q7KFv"
      }
    },
    {
      "cell_type": "markdown",
      "source": [
        " Split the dataset into two parts as training data and test data. first 80 percent samples should be selected as training data and last 20 percent samples should be selected as test data."
      ],
      "metadata": {
        "id": "Pw4mTHY677DH"
      }
    },
    {
      "cell_type": "code",
      "source": [
        "#splitting the data as reuested using data slicing technique and creating the classifiers\n",
        "split_index = int(0.8 * len(data))\n",
        "\n",
        "train_data_a = data[:split_index]\n",
        "test_data_a = data[split_index:]\n",
        "\n",
        "x_train_a = train_data_a.drop(columns=[57])\n",
        "y_train_a = train_data_a[57]\n",
        "\n",
        "x_test_a = test_data_a.drop(columns=[57])\n",
        "y_test_a = test_data_a[57]\n",
        "\n",
        "gnb = GaussianNB()\n",
        "gnb.fit(x_train_a, y_train_a)\n",
        "\n",
        "mnb = MultinomialNB()\n",
        "mnb.fit(x_train_a, y_train_a)"
      ],
      "metadata": {
        "colab": {
          "base_uri": "https://localhost:8080/"
        },
        "id": "EFvZn2g2SPgy",
        "outputId": "41dfdf6f-eff0-4325-9424-730fbbc0ffd2"
      },
      "execution_count": null,
      "outputs": [
        {
          "output_type": "execute_result",
          "data": {
            "text/plain": [
              "MultinomialNB()"
            ],
            "text/html": [
              "<style>#sk-container-id-29 {color: black;background-color: white;}#sk-container-id-29 pre{padding: 0;}#sk-container-id-29 div.sk-toggleable {background-color: white;}#sk-container-id-29 label.sk-toggleable__label {cursor: pointer;display: block;width: 100%;margin-bottom: 0;padding: 0.3em;box-sizing: border-box;text-align: center;}#sk-container-id-29 label.sk-toggleable__label-arrow:before {content: \"▸\";float: left;margin-right: 0.25em;color: #696969;}#sk-container-id-29 label.sk-toggleable__label-arrow:hover:before {color: black;}#sk-container-id-29 div.sk-estimator:hover label.sk-toggleable__label-arrow:before {color: black;}#sk-container-id-29 div.sk-toggleable__content {max-height: 0;max-width: 0;overflow: hidden;text-align: left;background-color: #f0f8ff;}#sk-container-id-29 div.sk-toggleable__content pre {margin: 0.2em;color: black;border-radius: 0.25em;background-color: #f0f8ff;}#sk-container-id-29 input.sk-toggleable__control:checked~div.sk-toggleable__content {max-height: 200px;max-width: 100%;overflow: auto;}#sk-container-id-29 input.sk-toggleable__control:checked~label.sk-toggleable__label-arrow:before {content: \"▾\";}#sk-container-id-29 div.sk-estimator input.sk-toggleable__control:checked~label.sk-toggleable__label {background-color: #d4ebff;}#sk-container-id-29 div.sk-label input.sk-toggleable__control:checked~label.sk-toggleable__label {background-color: #d4ebff;}#sk-container-id-29 input.sk-hidden--visually {border: 0;clip: rect(1px 1px 1px 1px);clip: rect(1px, 1px, 1px, 1px);height: 1px;margin: -1px;overflow: hidden;padding: 0;position: absolute;width: 1px;}#sk-container-id-29 div.sk-estimator {font-family: monospace;background-color: #f0f8ff;border: 1px dotted black;border-radius: 0.25em;box-sizing: border-box;margin-bottom: 0.5em;}#sk-container-id-29 div.sk-estimator:hover {background-color: #d4ebff;}#sk-container-id-29 div.sk-parallel-item::after {content: \"\";width: 100%;border-bottom: 1px solid gray;flex-grow: 1;}#sk-container-id-29 div.sk-label:hover label.sk-toggleable__label {background-color: #d4ebff;}#sk-container-id-29 div.sk-serial::before {content: \"\";position: absolute;border-left: 1px solid gray;box-sizing: border-box;top: 0;bottom: 0;left: 50%;z-index: 0;}#sk-container-id-29 div.sk-serial {display: flex;flex-direction: column;align-items: center;background-color: white;padding-right: 0.2em;padding-left: 0.2em;position: relative;}#sk-container-id-29 div.sk-item {position: relative;z-index: 1;}#sk-container-id-29 div.sk-parallel {display: flex;align-items: stretch;justify-content: center;background-color: white;position: relative;}#sk-container-id-29 div.sk-item::before, #sk-container-id-29 div.sk-parallel-item::before {content: \"\";position: absolute;border-left: 1px solid gray;box-sizing: border-box;top: 0;bottom: 0;left: 50%;z-index: -1;}#sk-container-id-29 div.sk-parallel-item {display: flex;flex-direction: column;z-index: 1;position: relative;background-color: white;}#sk-container-id-29 div.sk-parallel-item:first-child::after {align-self: flex-end;width: 50%;}#sk-container-id-29 div.sk-parallel-item:last-child::after {align-self: flex-start;width: 50%;}#sk-container-id-29 div.sk-parallel-item:only-child::after {width: 0;}#sk-container-id-29 div.sk-dashed-wrapped {border: 1px dashed gray;margin: 0 0.4em 0.5em 0.4em;box-sizing: border-box;padding-bottom: 0.4em;background-color: white;}#sk-container-id-29 div.sk-label label {font-family: monospace;font-weight: bold;display: inline-block;line-height: 1.2em;}#sk-container-id-29 div.sk-label-container {text-align: center;}#sk-container-id-29 div.sk-container {/* jupyter's `normalize.less` sets `[hidden] { display: none; }` but bootstrap.min.css set `[hidden] { display: none !important; }` so we also need the `!important` here to be able to override the default hidden behavior on the sphinx rendered scikit-learn.org. See: https://github.com/scikit-learn/scikit-learn/issues/21755 */display: inline-block !important;position: relative;}#sk-container-id-29 div.sk-text-repr-fallback {display: none;}</style><div id=\"sk-container-id-29\" class=\"sk-top-container\"><div class=\"sk-text-repr-fallback\"><pre>MultinomialNB()</pre><b>In a Jupyter environment, please rerun this cell to show the HTML representation or trust the notebook. <br />On GitHub, the HTML representation is unable to render, please try loading this page with nbviewer.org.</b></div><div class=\"sk-container\" hidden><div class=\"sk-item\"><div class=\"sk-estimator sk-toggleable\"><input class=\"sk-toggleable__control sk-hidden--visually\" id=\"sk-estimator-id-29\" type=\"checkbox\" checked><label for=\"sk-estimator-id-29\" class=\"sk-toggleable__label sk-toggleable__label-arrow\">MultinomialNB</label><div class=\"sk-toggleable__content\"><pre>MultinomialNB()</pre></div></div></div></div></div>"
            ]
          },
          "metadata": {},
          "execution_count": 282
        }
      ]
    },
    {
      "cell_type": "markdown",
      "source": [
        "Compute the confusion matrix and the accuracy of test data for Gaussian\n",
        "and Multinomial Naive Bayes Classifiers"
      ],
      "metadata": {
        "id": "uFcinSssu1QO"
      }
    },
    {
      "cell_type": "code",
      "source": [
        "#predicting the outputs and calculating the accuracy of the models and creating the confusion matrix for evaluation\n",
        "y_pred_gnb_a = gnb.predict(x_test_a)\n",
        "cm_gnb_a = confusion_matrix(y_test_a, y_pred_gnb_a)\n",
        "accuracy_gnb_a = accuracy_score(y_test_a, y_pred_gnb_a)\n",
        "\n",
        "y_pred_mnb_a = mnb.predict(x_test_a)\n",
        "cm_mnb_a = confusion_matrix(y_test_a, y_pred_mnb_a)\n",
        "accuracy_mnb_a = accuracy_score(y_test_a, y_pred_mnb_a)\n",
        "\n",
        "fig, axes = plt.subplots(1, 2, figsize=(12, 6))\n",
        "\n",
        "disp_gnb_a = ConfusionMatrixDisplay(confusion_matrix=cm_gnb_a, display_labels=[\"Not Spam\", \"Spam\"])\n",
        "disp_gnb_a.plot(ax=axes[0], cmap='Blues', xticks_rotation='vertical')\n",
        "axes[0].set_title(\"Gaussian Naive Bayes\\nAccuracy: {:.2f}\".format(accuracy_gnb_a))\n",
        "\n",
        "disp_mnb_a = ConfusionMatrixDisplay(confusion_matrix=cm_mnb_a, display_labels=[\"Not Spam\", \"Spam\"])\n",
        "disp_mnb_a.plot(ax=axes[1], cmap='Blues', xticks_rotation='vertical')\n",
        "axes[1].set_title(\"Multinomial Naive Bayes\\nAccuracy: {:.2f}\".format(accuracy_mnb_a))\n",
        "\n",
        "plt.tight_layout()\n",
        "plt.show()"
      ],
      "metadata": {
        "colab": {
          "base_uri": "https://localhost:8080/"
        },
        "id": "nyA_Gh77zt1f",
        "outputId": "409d2cda-07d2-40dd-a46a-57e084559627"
      },
      "execution_count": null,
      "outputs": [
        {
          "output_type": "display_data",
          "data": {
            "text/plain": [
              "<Figure size 1200x600 with 4 Axes>"
            ],
            "image/png": "[encoded data removed]"
          },
          "metadata": {}
        }
      ]
    },
    {
      "cell_type": "markdown",
      "source": [
        "## b) Split the dataset using train test split function"
      ],
      "metadata": {
        "id": "CyOxXTtasoRP"
      }
    },
    {
      "cell_type": "markdown",
      "source": [
        "Use train test split function on input and output of the whole data and utilize 80% of samples as train and 20% of samples as test data."
      ],
      "metadata": {
        "id": "5S1kgqffsfGf"
      }
    },
    {
      "cell_type": "code",
      "source": [
        "data.columns"
      ],
      "metadata": {
        "colab": {
          "base_uri": "https://localhost:8080/"
        },
        "id": "Ahe3rC2jCPX1",
        "outputId": "45ec16ff-69cf-4ab1-933f-946fa1fe2bab"
      },
      "execution_count": null,
      "outputs": [
        {
          "output_type": "execute_result",
          "data": {
            "text/plain": [
              "Int64Index([ 0,  1,  2,  3,  4,  5,  6,  7,  8,  9, 10, 11, 12, 13, 14, 15, 16,\n",
              "            17, 18, 19, 20, 21, 22, 23, 24, 25, 26, 27, 28, 29, 30, 31, 32, 33,\n",
              "            34, 35, 36, 37, 38, 39, 40, 41, 42, 43, 44, 45, 46, 47, 48, 49, 50,\n",
              "            51, 52, 53, 54, 55, 56, 57],\n",
              "           dtype='int64')"
            ]
          },
          "metadata": {},
          "execution_count": 312
        }
      ]
    },
    {
      "cell_type": "code",
      "source": [
        "x = data.drop(57,axis=1)\n",
        "y = data[57]"
      ],
      "metadata": {
        "id": "tFvr_PUMCVUe"
      },
      "execution_count": null,
      "outputs": []
    },
    {
      "cell_type": "code",
      "source": [
        "x_train_b , x_test_b , y_train_b ,y_test_b = train_test_split(x,y,stratify = y, test_size=0.2, random_state=42)"
      ],
      "metadata": {
        "id": "yhKnuTPx9Uyt"
      },
      "execution_count": null,
      "outputs": []
    },
    {
      "cell_type": "code",
      "source": [
        "# Initialize and train the guassian and Multinomial Naive Bayes classifier\n",
        "gnb = GaussianNB()\n",
        "gnb.fit(x_train_b,y_train_b)\n",
        "\n",
        "mnb = MultinomialNB()\n",
        "mnb.fit(x_train_b,y_train_b)"
      ],
      "metadata": {
        "colab": {
          "base_uri": "https://localhost:8080/"
        },
        "id": "lzoqnwsJ958N",
        "outputId": "e86a656c-a0fc-41c8-d201-807f7c5a5b99"
      },
      "execution_count": null,
      "outputs": [
        {
          "output_type": "execute_result",
          "data": {
            "text/plain": [
              "MultinomialNB()"
            ],
            "text/html": [
              "<style>#sk-container-id-35 {color: black;background-color: white;}#sk-container-id-35 pre{padding: 0;}#sk-container-id-35 div.sk-toggleable {background-color: white;}#sk-container-id-35 label.sk-toggleable__label {cursor: pointer;display: block;width: 100%;margin-bottom: 0;padding: 0.3em;box-sizing: border-box;text-align: center;}#sk-container-id-35 label.sk-toggleable__label-arrow:before {content: \"▸\";float: left;margin-right: 0.25em;color: #696969;}#sk-container-id-35 label.sk-toggleable__label-arrow:hover:before {color: black;}#sk-container-id-35 div.sk-estimator:hover label.sk-toggleable__label-arrow:before {color: black;}#sk-container-id-35 div.sk-toggleable__content {max-height: 0;max-width: 0;overflow: hidden;text-align: left;background-color: #f0f8ff;}#sk-container-id-35 div.sk-toggleable__content pre {margin: 0.2em;color: black;border-radius: 0.25em;background-color: #f0f8ff;}#sk-container-id-35 input.sk-toggleable__control:checked~div.sk-toggleable__content {max-height: 200px;max-width: 100%;overflow: auto;}#sk-container-id-35 input.sk-toggleable__control:checked~label.sk-toggleable__label-arrow:before {content: \"▾\";}#sk-container-id-35 div.sk-estimator input.sk-toggleable__control:checked~label.sk-toggleable__label {background-color: #d4ebff;}#sk-container-id-35 div.sk-label input.sk-toggleable__control:checked~label.sk-toggleable__label {background-color: #d4ebff;}#sk-container-id-35 input.sk-hidden--visually {border: 0;clip: rect(1px 1px 1px 1px);clip: rect(1px, 1px, 1px, 1px);height: 1px;margin: -1px;overflow: hidden;padding: 0;position: absolute;width: 1px;}#sk-container-id-35 div.sk-estimator {font-family: monospace;background-color: #f0f8ff;border: 1px dotted black;border-radius: 0.25em;box-sizing: border-box;margin-bottom: 0.5em;}#sk-container-id-35 div.sk-estimator:hover {background-color: #d4ebff;}#sk-container-id-35 div.sk-parallel-item::after {content: \"\";width: 100%;border-bottom: 1px solid gray;flex-grow: 1;}#sk-container-id-35 div.sk-label:hover label.sk-toggleable__label {background-color: #d4ebff;}#sk-container-id-35 div.sk-serial::before {content: \"\";position: absolute;border-left: 1px solid gray;box-sizing: border-box;top: 0;bottom: 0;left: 50%;z-index: 0;}#sk-container-id-35 div.sk-serial {display: flex;flex-direction: column;align-items: center;background-color: white;padding-right: 0.2em;padding-left: 0.2em;position: relative;}#sk-container-id-35 div.sk-item {position: relative;z-index: 1;}#sk-container-id-35 div.sk-parallel {display: flex;align-items: stretch;justify-content: center;background-color: white;position: relative;}#sk-container-id-35 div.sk-item::before, #sk-container-id-35 div.sk-parallel-item::before {content: \"\";position: absolute;border-left: 1px solid gray;box-sizing: border-box;top: 0;bottom: 0;left: 50%;z-index: -1;}#sk-container-id-35 div.sk-parallel-item {display: flex;flex-direction: column;z-index: 1;position: relative;background-color: white;}#sk-container-id-35 div.sk-parallel-item:first-child::after {align-self: flex-end;width: 50%;}#sk-container-id-35 div.sk-parallel-item:last-child::after {align-self: flex-start;width: 50%;}#sk-container-id-35 div.sk-parallel-item:only-child::after {width: 0;}#sk-container-id-35 div.sk-dashed-wrapped {border: 1px dashed gray;margin: 0 0.4em 0.5em 0.4em;box-sizing: border-box;padding-bottom: 0.4em;background-color: white;}#sk-container-id-35 div.sk-label label {font-family: monospace;font-weight: bold;display: inline-block;line-height: 1.2em;}#sk-container-id-35 div.sk-label-container {text-align: center;}#sk-container-id-35 div.sk-container {/* jupyter's `normalize.less` sets `[hidden] { display: none; }` but bootstrap.min.css set `[hidden] { display: none !important; }` so we also need the `!important` here to be able to override the default hidden behavior on the sphinx rendered scikit-learn.org. See: https://github.com/scikit-learn/scikit-learn/issues/21755 */display: inline-block !important;position: relative;}#sk-container-id-35 div.sk-text-repr-fallback {display: none;}</style><div id=\"sk-container-id-35\" class=\"sk-top-container\"><div class=\"sk-text-repr-fallback\"><pre>MultinomialNB()</pre><b>In a Jupyter environment, please rerun this cell to show the HTML representation or trust the notebook. <br />On GitHub, the HTML representation is unable to render, please try loading this page with nbviewer.org.</b></div><div class=\"sk-container\" hidden><div class=\"sk-item\"><div class=\"sk-estimator sk-toggleable\"><input class=\"sk-toggleable__control sk-hidden--visually\" id=\"sk-estimator-id-35\" type=\"checkbox\" checked><label for=\"sk-estimator-id-35\" class=\"sk-toggleable__label sk-toggleable__label-arrow\">MultinomialNB</label><div class=\"sk-toggleable__content\"><pre>MultinomialNB()</pre></div></div></div></div></div>"
            ]
          },
          "metadata": {},
          "execution_count": 315
        }
      ]
    },
    {
      "cell_type": "markdown",
      "source": [
        "Compute the confusion matrix and the accuracy of test data for Gaussian and Multinomial Naive Bayes Classifiers"
      ],
      "metadata": {
        "id": "kzWQ1SDbg_bW"
      }
    },
    {
      "cell_type": "code",
      "source": [
        "y_pred_gnb = gnb.predict(x_test_b)\n",
        "cm_gnb = confusion_matrix(y_test_b, y_pred_gnb)\n",
        "accuracy_gnb = accuracy_score(y_test_b, y_pred_gnb)\n",
        "\n",
        "y_pred_mnb = mnb.predict(x_test_b)\n",
        "cm_mnb = confusion_matrix(y_test_b, y_pred_mnb)\n",
        "accuracy_mnb = accuracy_score(y_test_b, y_pred_mnb)\n",
        "\n",
        "fig, axes = plt.subplots(1, 2, figsize=(12, 6))\n",
        "\n",
        "disp_gnb = ConfusionMatrixDisplay(confusion_matrix=cm_gnb, display_labels=[\"Not Spam\", \"Spam\"])\n",
        "disp_gnb.plot(ax=axes[0], cmap='Blues', xticks_rotation='vertical')\n",
        "axes[0].set_title(\"Gaussian Naive Bayes\\nAccuracy: {:.2f}\".format(accuracy_gnb))\n",
        "\n",
        "disp_mnb = ConfusionMatrixDisplay(confusion_matrix=cm_mnb, display_labels=[\"Not Spam\", \"Spam\"])\n",
        "disp_mnb.plot(ax=axes[1], cmap='Blues', xticks_rotation='vertical')\n",
        "axes[1].set_title(\"Multinomial Naive Bayes\\nAccuracy: {:.2f}\".format(accuracy_mnb))\n",
        "\n",
        "plt.tight_layout()\n",
        "plt.show()"
      ],
      "metadata": {
        "colab": {
          "base_uri": "https://localhost:8080/"
        },
        "id": "NksRex710Jbd",
        "outputId": "76fba57e-29f9-40b3-d158-e47e29f69937"
      },
      "execution_count": null,
      "outputs": [
        {
          "output_type": "display_data",
          "data": {
            "text/plain": [
              "<Figure size 1200x600 with 4 Axes>"
            ],
            "image/png": "[encoded data removed]"
          },
          "metadata": {}
        }
      ]
    },
    {
      "cell_type": "markdown",
      "source": [
        "## c)  Another Naive Bayes classifier"
      ],
      "metadata": {
        "id": "AxNjeNd60bWo"
      }
    },
    {
      "cell_type": "markdown",
      "source": [
        "Use another Naive Bayes classifier of your choice to check for the improvement in terms of accuarcy score of test data in (b) over Gaussian and Multinomial asked in (b)"
      ],
      "metadata": {
        "id": "fhXgCXQo0iW0"
      }
    },
    {
      "cell_type": "code",
      "source": [
        "# Initialize and train the Bernoulli Naive Bayes classifier\n",
        "bern = BernoulliNB(alpha=1.0, fit_prior=True)\n",
        "bern.fit(x_train_b, y_train_b)\n",
        "y_pred_bern = bern.predict(x_test_b)\n",
        "\n",
        "accuracy = accuracy_score(y_test_b, y_pred_bern)\n",
        "print(\"Accuracy:\", accuracy)"
      ],
      "metadata": {
        "colab": {
          "base_uri": "https://localhost:8080/"
        },
        "id": "QX63trKFKBH-",
        "outputId": "ede584df-6661-466f-e9a5-5543bcdb42f9"
      },
      "execution_count": null,
      "outputs": [
        {
          "output_type": "stream",
          "name": "stdout",
          "text": [
            "Accuracy: 0.8762214983713354\n"
          ]
        }
      ]
    },
    {
      "cell_type": "markdown",
      "source": [
        "Provide an explanation for the improvement in performance (if any)."
      ],
      "metadata": {
        "id": "sx-RLO_G0uat"
      }
    },
    {
      "cell_type": "markdown",
      "source": [
        ">The Bernoulli Naive Bayes classifier might have achieved better accuracy in the previous problem compared to Gaussian and Multinomial Naive Bayes classifiers due to the following reasons:\n",
        "<br>1) Binary Feature Representation as it assume features are binary and it will suited with the binary feature representation.\n",
        "<br>2) Handling Irrelevant Features as it considers the presence or absence of features, disregarding their frequency or intensity.\n"
      ],
      "metadata": {
        "id": "bnqLBrUK0xel"
      }
    },
    {
      "cell_type": "markdown",
      "source": [
        "Provide classification report in terms of precision, recall and F1-score."
      ],
      "metadata": {
        "id": "hbLUKEVy01a1"
      }
    },
    {
      "cell_type": "code",
      "source": [
        "#generating the classification report\n",
        "report = classification_report(y_test_b, y_pred_bern)\n",
        "print(\"Classification Report:\\n\", report)"
      ],
      "metadata": {
        "id": "5g20M09C05_M",
        "colab": {
          "base_uri": "https://localhost:8080/"
        },
        "outputId": "33f5f237-808a-4ea5-d0b2-51023ec16f16"
      },
      "execution_count": null,
      "outputs": [
        {
          "output_type": "stream",
          "name": "stdout",
          "text": [
            "Classification Report:\n",
            "               precision    recall  f1-score   support\n",
            "\n",
            "           0       0.88      0.92      0.90       558\n",
            "           1       0.87      0.80      0.84       363\n",
            "\n",
            "    accuracy                           0.88       921\n",
            "   macro avg       0.88      0.86      0.87       921\n",
            "weighted avg       0.88      0.88      0.88       921\n",
            "\n"
          ]
        }
      ]
    },
    {
      "cell_type": "markdown",
      "source": [
        "Display the confusion matrix for only the selected classifier"
      ],
      "metadata": {
        "id": "TlJreFIs07ms"
      }
    },
    {
      "cell_type": "code",
      "source": [
        "#drawing the confusion matrix\n",
        "cm_bern = confusion_matrix(y_test_b, y_pred_bern)\n",
        "fig, ax = plt.subplots(figsize=(6, 4))\n",
        "disp_mnb = ConfusionMatrixDisplay(confusion_matrix=cm_bern, display_labels=[\"Not Spam\", \"Spam\"])\n",
        "disp_mnb.plot(ax=ax, cmap='Blues', xticks_rotation='vertical')\n",
        "ax.set_title(\"Bernoulli Naive Bayes\\nAccuracy: {:.2f}\".format(accuracy))\n",
        "plt.tight_layout()\n",
        "plt.show()"
      ],
      "metadata": {
        "id": "cjOFxcIX09wc",
        "colab": {
          "base_uri": "https://localhost:8080/"
        },
        "outputId": "c5e5b2d9-1a5f-4ce9-b5d6-7174cbe9268b"
      },
      "execution_count": null,
      "outputs": [
        {
          "output_type": "display_data",
          "data": {
            "text/plain": [
              "<Figure size 600x400 with 2 Axes>"
            ],
            "image/png": "[encoded data removed]"
          },
          "metadata": {}
        }
      ]
    },
    {
      "cell_type": "markdown",
      "source": [
        "## d) Split the data into four equal parts"
      ],
      "metadata": {
        "id": "wH8RO0tq0-Rl"
      }
    },
    {
      "cell_type": "markdown",
      "source": [
        "Take same first 80 percent as asked in (a) training samples and split the data\n",
        "into four equal parts\n",
        "\n",
        "according to order such as the first 25% of training data\n",
        "(subset 1), the second 25% of training data (subset 2), the third 25% of training\n",
        "data (subset 3) and the fourth 25% of training data (subset 4)."
      ],
      "metadata": {
        "id": "UeAIfXnG1GV0"
      }
    },
    {
      "cell_type": "code",
      "source": [
        "#splitting the part A training data into 4 equal subsets\n",
        "split_index = int(len(train_data_a))\n",
        "subset_size = int(split_index * 0.25)\n",
        "\n",
        "subset_1 = data[:subset_size]\n",
        "subset_2 = data[subset_size:2*subset_size]\n",
        "subset_3 = data[2*subset_size:3*subset_size]\n",
        "subset_4 = data[3*subset_size:split_index]\n",
        "\n",
        "x_subset_1 = subset_1.drop(columns=[57])\n",
        "y_subset_1 = subset_1[57]\n",
        "\n",
        "x_subset_2 = subset_2.drop(columns=[57])\n",
        "y_subset_2 = subset_2[57]\n",
        "\n",
        "x_subset_3 = subset_3.drop(columns=[57])\n",
        "y_subset_3 = subset_3[57]\n",
        "\n",
        "x_subset_4 = subset_4.drop(columns=[57])\n",
        "y_subset_4 = subset_4[57]"
      ],
      "metadata": {
        "id": "A_TGlzZD1OA0"
      },
      "execution_count": null,
      "outputs": []
    },
    {
      "cell_type": "markdown",
      "source": [
        "Train selected classifier chosen in (c) for each subset and predict the accuracy score by evaluating on last 20 percent of test data assumed in (a)."
      ],
      "metadata": {
        "id": "uW6lFGiT1OZM"
      }
    },
    {
      "cell_type": "code",
      "source": [
        "#fitting the bernoulli model ont he 4 subsets and generating accuracy scores for each subset\n",
        "accuracy_scores = []\n",
        "for i in range(1,5):\n",
        "  x = globals()['x_subset_'+str(i)]\n",
        "  y = globals()['y_subset_'+str(i)]\n",
        "  bern.fit(x,y)\n",
        "  y_pred = bern.predict(x_test_a)\n",
        "  accuracy_scores.append(accuracy_score(y_test_a,y_pred))"
      ],
      "metadata": {
        "id": "jOe_uJF0XQs2"
      },
      "execution_count": null,
      "outputs": []
    },
    {
      "cell_type": "markdown",
      "source": [
        "Plot bar chart to show all subsets’ accuracy on the figure."
      ],
      "metadata": {
        "id": "IqsTjDFr1Z48"
      }
    },
    {
      "cell_type": "code",
      "source": [
        "#plotting bar plot for the accuracy scores of the 4 subsets\n",
        "subset_labels = ['Subset 1', 'Subset 2', 'Subset 3', 'Subset 4']\n",
        "\n",
        "plt.bar(subset_labels, accuracy_scores)\n",
        "plt.xlabel('Subset')\n",
        "plt.ylabel('Accuracy')\n",
        "plt.title('Accuracy Scores for Subsets')\n",
        "plt.ylim(0, 1)\n",
        "plt.show()"
      ],
      "metadata": {
        "colab": {
          "base_uri": "https://localhost:8080/",
          "height": 472
        },
        "id": "L689NrLVgkoT",
        "outputId": "4554ed22-b005-4a7f-c4ee-a824ac15dcad"
      },
      "execution_count": null,
      "outputs": [
        {
          "output_type": "display_data",
          "data": {
            "text/plain": [
              "<Figure size 640x480 with 1 Axes>"
            ],
            "image/png": "[encoded data removed]"
          },
          "metadata": {}
        }
      ]
    },
    {
      "cell_type": "markdown",
      "source": [
        " ### Add your comment"
      ],
      "metadata": {
        "id": "GSzDw73U1bo8"
      }
    },
    {
      "cell_type": "markdown",
      "source": [
        "> As we can see:\n",
        "<br>1)The first subset training data set didn't provide the model with a variation between the spam and not spam classes as the first portion of the data are all from '1' class.\n",
        "<br>2)For the second subset it did contain a small portion of the '0' class so the model was able to capture some more info to classify better and did increase the accuracy .\n",
        "<br>3) For the third and fourth subset the accuracy was 100% because the test data is all from the '0' class as the subsets so they were most likely to assign all the coming predictions to class '0'.\n",
        "\n"
      ],
      "metadata": {
        "id": "lo-n1DRb1dU0"
      }
    }
  ]
}